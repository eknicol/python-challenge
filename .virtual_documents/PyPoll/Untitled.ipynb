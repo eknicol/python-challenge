import os
import csv


csvpath = os.path.join('..', 'PyPoll', 'Resources', 'election_data.csv')



with open(csvpath) as csvfile:
    csvreader = csv.reader(csvfile, delimiter=',')
    # Read the header row
    csv_header = next(csvreader)
    print(f"CSV Header: {csv_header}")

    # Read each row of data after the header
    for row in csvreader:
        print(row)



