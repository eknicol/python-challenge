import os
import csv


csvpath = os.path.join('..', 'PyBank', 'Resources', 'budget_data.csv')




with open(csvpath) as csvfile:
    csvreader = csv.reader(csvfile, delimiter=',')
    # Read the header row
    csv_header = next(csvreader)
    print(f"CSV Header: {csv_header}")

    # Initialize a set to store unique months
    all_months = []
    
    # Iterate through each line in the file
    for line in csvfile:  
        # Add the month to the set of unique months
        all_months.append(month)

# Calculate the total number of unique months
total_months = len(all_months)

print("Total Months:", total_months)









