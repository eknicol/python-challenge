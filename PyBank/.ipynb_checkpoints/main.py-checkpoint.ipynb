{
 "cells": [
  {
   "cell_type": "code",
   "execution_count": 9,
   "id": "05ab2163-9e79-4527-a291-b3f6f424c9d8",
   "metadata": {},
   "outputs": [],
   "source": [
    "import os\n",
    "import csv"
   ]
  },
  {
   "cell_type": "code",
   "execution_count": 20,
   "id": "895c3c14-34e0-48c2-9579-e3a2a0fc1b48",
   "metadata": {},
   "outputs": [],
   "source": [
    "csvpath = os.path.join('..', 'PyBank', 'Resources', 'budget_data.csv')\n",
    "\n"
   ]
  },
  {
   "cell_type": "code",
   "execution_count": 34,
   "id": "86d8f444-3dc6-44c9-8380-65688ddcb942",
   "metadata": {},
   "outputs": [
    {
     "name": "stdout",
     "output_type": "stream",
     "text": [
      "CSV Header: ['Date', 'Profit/Losses']\n",
      "Total Months: 86\n"
     ]
    }
   ],
   "source": [
    "with open(csvpath) as csvfile:\n",
    "    csvreader = csv.reader(csvfile, delimiter=',')\n",
    "    # Read the header row\n",
    "    csv_header = next(csvreader)\n",
    "    print(f\"CSV Header: {csv_header}\")\n",
    "\n",
    "    # Initialize a set to store unique months\n",
    "    all_months = []\n",
    "    \n",
    "    # Iterate through each line in the file\n",
    "    for line in csvfile:  \n",
    "        # Add the month to the set of unique months\n",
    "        all_months.append(month)\n",
    "\n",
    "# Calculate the total number of unique months\n",
    "total_months = len(all_months)\n",
    "\n",
    "print(\"Total Months:\", total_months)"
   ]
  },
  {
   "cell_type": "code",
   "execution_count": 48,
   "id": "2b9634fe-5c7b-4aa4-9d22-0bd0ed41d7a5",
   "metadata": {},
   "outputs": [
    {
     "name": "stdout",
     "output_type": "stream",
     "text": [
      "Net Profit/Loss: $22564198\n"
     ]
    }
   ],
   "source": [
    "# Define the variables\n",
    "net_profit_loss = 0\n",
    "\n",
    "# Read the data from the CSV file\n",
    "with open(csvpath) as csvfile:\n",
    "    csvreader = csv.reader(csvfile, delimiter=',')\n",
    "    next(csvreader)  # Skip the header row\n",
    "    for row in csvreader:\n",
    "        profit_loss = int(row[1])\n",
    "        net_profit_loss += profit_loss\n",
    "\n",
    "print(f\"Net Profit/Loss: ${net_profit_loss}\")\n"
   ]
  },
  {
   "cell_type": "code",
   "execution_count": 49,
   "id": "4cb54e66-d9d0-4d4c-ad2d-e3cde09b62cf",
   "metadata": {},
   "outputs": [
    {
     "name": "stdout",
     "output_type": "stream",
     "text": [
      "Total Changes in Profit/Loss: $-706444\n",
      "Average Change: $-8311.11\n"
     ]
    }
   ],
   "source": [
    "#Define the variables\n",
    "total_changes = 0\n",
    "previous_profit_loss = None\n",
    "change_count = 0\n",
    "\n",
    "with open(csvpath) as csvfile:\n",
    "    csvreader = csv.reader(csvfile, delimiter=',')\n",
    "    next(csvreader)  # Skip the header row\n",
    "    for row in csvreader:\n",
    "        profit_loss = int(row[1])\n",
    "        if previous_profit_loss is not None:\n",
    "            change = profit_loss - previous_profit_loss\n",
    "            total_changes += change\n",
    "            change_count += 1\n",
    "        previous_profit_loss = profit_loss\n",
    "\n",
    "average_change = total_changes / change_count if change_count > 0 else 0\n",
    "\n",
    "print(f\"Total Changes in Profit/Loss: ${total_changes}\")\n",
    "print(f\"Average Change: ${average_change:.2f}\")"
   ]
  },
  {
   "cell_type": "code",
   "execution_count": 50,
   "id": "cc9e9479-83fe-4d93-992d-88c7ac173ffc",
   "metadata": {},
   "outputs": [
    {
     "name": "stdout",
     "output_type": "stream",
     "text": [
      "Greatest Increase in Profits: Aug-16 ($1862002)\n"
     ]
    }
   ],
   "source": [
    "#Define the variables\n",
    "max_increase = 0\n",
    "max_increase_date = \"\"\n",
    "previous_profit_loss = None\n",
    "\n",
    "with open(csvpath) as csvfile:\n",
    "    csvreader = csv.reader(csvfile, delimiter=',')\n",
    "    next(csvreader)  # Skip the header row\n",
    "    for row in csvreader:\n",
    "        date = row[0]\n",
    "        profit_loss = int(row[1])\n",
    "        if previous_profit_loss is not None:\n",
    "            increase = profit_loss - previous_profit_loss\n",
    "            if increase > max_increase:\n",
    "                max_increase = increase\n",
    "                max_increase_date = date\n",
    "        previous_profit_loss = profit_loss\n",
    "\n",
    "print(f\"Greatest Increase in Profits: {max_increase_date} (${max_increase})\")"
   ]
  },
  {
   "cell_type": "code",
   "execution_count": 54,
   "id": "fef2b2e8-3396-46bc-9916-c0188cea5985",
   "metadata": {},
   "outputs": [
    {
     "name": "stdout",
     "output_type": "stream",
     "text": [
      "Greatest Decrease in Profits: Feb-14 ($-1825558)\n"
     ]
    }
   ],
   "source": [
    "#Define the variables\n",
    "max_decrease = 0\n",
    "max_decrease_date = \"\"\n",
    "previous_profit_loss = None\n",
    "\n",
    "with open(csvpath) as csvfile:\n",
    "    csvreader = csv.reader(csvfile, delimiter=',')\n",
    "    next(csvreader)  # Skip the header row\n",
    "    for row in csvreader:\n",
    "        date = row[0]\n",
    "        profit_loss = int(row[1])\n",
    "        if previous_profit_loss is not None:\n",
    "            decrease = profit_loss - previous_profit_loss\n",
    "            if decrease < max_decrease:\n",
    "                max_decrease = decrease\n",
    "                max_decrease_date = date\n",
    "        previous_profit_loss = profit_loss\n",
    "\n",
    "print(f\"Greatest Decrease in Profits: {max_decrease_date} (${max_decrease})\")"
   ]
  },
  {
   "cell_type": "code",
   "execution_count": 55,
   "id": "1e4ef1cc-78e8-4351-88fe-b8912b5b70db",
   "metadata": {},
   "outputs": [
    {
     "name": "stdout",
     "output_type": "stream",
     "text": [
      "Analysis results have been exported to financial_analysis.txt\n"
     ]
    }
   ],
   "source": [
    "# Export the analysis results to a text file\n",
    "output_path = \"financial_analysis.txt\"\n",
    "with open(output_path, 'w') as file:\n",
    "    file.write(\"Financial Analysis\\n\")\n",
    "    file.write(\"-------------------------\\n\")\n",
    "    file.write(f\"Total Months: {change_count}\\n\")\n",
    "    file.write(f\"Total: ${net_profit_loss}\\n\")\n",
    "    file.write(f\"Average Change: ${average_change:.2f}\\n\")\n",
    "    file.write(f\"Greatest Increase in Profits: {max_increase_date} (${max_increase})\\n\")\n",
    "    file.write(f\"Greatest Decrease in Profits: {max_decrease_date} (${max_decrease})\\n\")\n",
    "\n",
    "print(f\"Analysis results have been exported to {output_path}\")"
   ]
  },
  {
   "cell_type": "code",
   "execution_count": null,
   "id": "69fe89ad-35a0-49f2-9652-4014db40f894",
   "metadata": {},
   "outputs": [],
   "source": []
  }
 ],
 "metadata": {
  "kernelspec": {
   "display_name": "Python 3 (ipykernel)",
   "language": "python",
   "name": "python3"
  },
  "language_info": {
   "codemirror_mode": {
    "name": "ipython",
    "version": 3
   },
   "file_extension": ".py",
   "mimetype": "text/x-python",
   "name": "python",
   "nbconvert_exporter": "python",
   "pygments_lexer": "ipython3",
   "version": "3.11.7"
  }
 },
 "nbformat": 4,
 "nbformat_minor": 5
}
