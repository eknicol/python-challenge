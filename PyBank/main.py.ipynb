{
 "cells": [
  {
   "cell_type": "code",
   "execution_count": 5,
   "id": "05ab2163-9e79-4527-a291-b3f6f424c9d8",
   "metadata": {},
   "outputs": [],
   "source": [
    "import os\n",
    "import csv\n",
    "import pandas as pd"
   ]
  },
  {
   "cell_type": "code",
   "execution_count": 3,
   "id": "895c3c14-34e0-48c2-9579-e3a2a0fc1b48",
   "metadata": {},
   "outputs": [],
   "source": [
    "election_csv = os.path.join(\"..\", \"Resources\", \"election_data.csv\")\n"
   ]
  },
  {
   "cell_type": "code",
   "execution_count": 4,
   "id": "e827fb08-bc7e-465b-86dd-1586ccbf6d18",
   "metadata": {},
   "outputs": [],
   "source": [
    "#Lists to store data\n",
    "total_months = []"
   ]
  },
  {
   "cell_type": "code",
   "execution_count": 8,
   "id": "b32a708c-ce26-45d0-86d8-222a5a418c0c",
   "metadata": {},
   "outputs": [],
   "source": [
    "#Calculate total number of months within the data set\n",
    "data = (\"Jan\", \"Feb\", \"Mar\", \"Apr\", \"May\", \"Jun\", \"Jul\", \"Aug\", \"Sep\",\"Oct\", \"Nov\",\"Dec\")\n"
   ]
  },
  {
   "cell_type": "code",
   "execution_count": 9,
   "id": "efb6512b-ae11-45e8-aaee-095106446e7f",
   "metadata": {},
   "outputs": [
    {
     "name": "stdout",
     "output_type": "stream",
     "text": [
      "0    12\n",
      "dtype: int64\n"
     ]
    }
   ],
   "source": [
    "df = pd.DataFrame(data)\n",
    "print(df.count())"
   ]
  },
  {
   "cell_type": "code",
   "execution_count": null,
   "id": "cc9e9479-83fe-4d93-992d-88c7ac173ffc",
   "metadata": {},
   "outputs": [],
   "source": []
  }
 ],
 "metadata": {
  "kernelspec": {
   "display_name": "Python 3 (ipykernel)",
   "language": "python",
   "name": "python3"
  },
  "language_info": {
   "codemirror_mode": {
    "name": "ipython",
    "version": 3
   },
   "file_extension": ".py",
   "mimetype": "text/x-python",
   "name": "python",
   "nbconvert_exporter": "python",
   "pygments_lexer": "ipython3",
   "version": "3.11.7"
  }
 },
 "nbformat": 4,
 "nbformat_minor": 5
}
