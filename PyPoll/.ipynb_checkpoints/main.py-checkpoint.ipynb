{
 "cells": [
  {
   "cell_type": "code",
   "execution_count": 1,
   "id": "dd30b2c5-71f9-45b6-86b3-946beffb6ac8",
   "metadata": {},
   "outputs": [],
   "source": [
    "import os\n",
    "import csv"
   ]
  },
  {
   "cell_type": "code",
   "execution_count": 2,
   "id": "797318aa-0ca2-4ae9-903e-9e508221dd04",
   "metadata": {},
   "outputs": [],
   "source": [
    "csvpath = os.path.join('..', 'PyPoll', 'Resources', 'election_data.csv')\n"
   ]
  },
  {
   "cell_type": "code",
   "execution_count": 7,
   "id": "6d927c3c-5531-49d3-9bb2-15614fb80dcf",
   "metadata": {},
   "outputs": [
    {
     "name": "stdout",
     "output_type": "stream",
     "text": [
      "CSV Header: ['Ballot ID', 'County', 'Candidate']\n",
      "Total Votes: 369711\n"
     ]
    }
   ],
   "source": [
    "with open(csvpath) as csvfile:\n",
    "    csvreader = csv.reader(csvfile, delimiter=',')\n",
    "    \n",
    "    # Read the header row\n",
    "    csv_header = next(csvreader)\n",
    "    print(f\"CSV Header: {csv_header}\")\n",
    "\n",
    "    # Initialize a set to store unique Ballot IDs\n",
    "    all_ballot_ids = set()\n",
    "\n",
    "    # Iterate through each line in the file\n",
    "    for row in csvreader:\n",
    "        # Extract the Ballot ID from the current row\n",
    "        ballot_id = row[0] \n",
    "        # Add the Ballot ID to the set of unique Ballot IDs\n",
    "        all_ballot_ids.add(ballot_id)\n",
    "\n",
    "    # Calculate the total number of unique Ballot IDs\n",
    "    total_votes = len(all_ballot_ids)\n",
    "\n",
    "print(\"Total Votes:\", total_votes)"
   ]
  },
  {
   "cell_type": "code",
   "execution_count": 8,
   "id": "22950b28-8869-4865-9e5c-686d2fe8a4c0",
   "metadata": {},
   "outputs": [
    {
     "name": "stdout",
     "output_type": "stream",
     "text": [
      "CSV Header: ['Ballot ID', 'County', 'Candidate']\n",
      "Candidates who received votes:\n",
      "Raymon Anthony Doane\n",
      "Charles Casper Stockham\n",
      "Diana DeGette\n"
     ]
    }
   ],
   "source": [
    "with open(csvpath) as csvfile:\n",
    "    csvreader = csv.reader(csvfile, delimiter=',')\n",
    "    \n",
    "    # Read the header row\n",
    "    csv_header = next(csvreader)\n",
    "    print(f\"CSV Header: {csv_header}\")\n",
    "\n",
    "    # Initialize a set to store unique candidates\n",
    "    unique_candidates = set()\n",
    "\n",
    "    # Iterate through each line in the file\n",
    "    for row in csvreader:\n",
    "        # Extract the candidate from the current row\n",
    "        candidate = row[2] \n",
    "        # Add the candidate to the set of unique candidates\n",
    "        unique_candidates.add(candidate)\n",
    "\n",
    "    print(\"Candidates who received votes:\")\n",
    "    for candidate in unique_candidates:\n",
    "        print(candidate)"
   ]
  },
  {
   "cell_type": "code",
   "execution_count": 9,
   "id": "4d40e7fe-7001-4568-89e1-dc9a66cef164",
   "metadata": {},
   "outputs": [
    {
     "name": "stdout",
     "output_type": "stream",
     "text": [
      "Percentage of votes each candidate won:\n",
      "Charles Casper Stockham: 23.049% (85213)\n",
      "Diana DeGette: 73.812% (272892)\n",
      "Raymon Anthony Doane: 3.139% (11606)\n"
     ]
    }
   ],
   "source": [
    "with open(csvpath) as csvfile:\n",
    "    csvreader = csv.reader(csvfile, delimiter=',')\n",
    "    \n",
    "    # Read the header row\n",
    "    csv_header = next(csvreader)\n",
    "    \n",
    "    # Initialize a dictionary to store the total votes for each candidate\n",
    "    candidate_votes = {}\n",
    "    total_votes = 0\n",
    "\n",
    "    # Iterate through each line in the file\n",
    "    for row in csvreader:\n",
    "        # Extract the candidate from the current row\n",
    "        candidate = row[2] \n",
    "        # Count the total votes for each candidate\n",
    "        if candidate in candidate_votes:\n",
    "            candidate_votes[candidate] += 1\n",
    "        else:\n",
    "            candidate_votes[candidate] = 1\n",
    "        total_votes += 1\n",
    "\n",
    "    print(\"Percentage of votes each candidate won:\")\n",
    "    for candidate, votes in candidate_votes.items():\n",
    "        percentage = (votes / total_votes) * 100\n",
    "        print(f\"{candidate}: {percentage:.3f}% ({votes})\")"
   ]
  },
  {
   "cell_type": "code",
   "execution_count": 11,
   "id": "273744de-9ed7-4f8d-ad74-d791d18338e2",
   "metadata": {},
   "outputs": [
    {
     "name": "stdout",
     "output_type": "stream",
     "text": [
      "Winner of the election based on popular vote:\n",
      "Diana DeGette with 272892 votes\n"
     ]
    }
   ],
   "source": [
    "with open(csvpath) as csvfile:\n",
    "    csvreader = csv.reader(csvfile, delimiter=',')\n",
    "    \n",
    "    # Read the header row\n",
    "    csv_header = next(csvreader)\n",
    "    \n",
    "    # Initialize a dictionary to store the total votes for each candidate\n",
    "    candidate_votes = {}\n",
    "\n",
    "    # Iterate through each line in the file\n",
    "    for row in csvreader:\n",
    "        # Extract the candidate from the current row\n",
    "        candidate = row[2]\n",
    "        # Count the total votes for each candidate\n",
    "        if candidate in candidate_votes:\n",
    "            candidate_votes[candidate] += 1\n",
    "        else:\n",
    "            candidate_votes[candidate] = 1\n",
    "\n",
    "    # Find the winner based on the candidate with the most votes\n",
    "    winner = max(candidate_votes, key=candidate_votes.get)\n",
    "    winning_votes = candidate_votes[winner]\n",
    "\n",
    "    print(\"Winner of the election based on popular vote:\")\n",
    "    print(f\"{winner} with {winning_votes} votes\")"
   ]
  },
  {
   "cell_type": "code",
   "execution_count": 23,
   "id": "ed4592c9-c66b-48ab-a61e-c6ae53812d2a",
   "metadata": {},
   "outputs": [
    {
     "name": "stdout",
     "output_type": "stream",
     "text": [
      "Election results have been saved to 'election_results.txt'.\n"
     ]
    }
   ],
   "source": [
    "output_file = \"election_results.txt\"\n",
    "\n",
    "with open(csvpath) as csvfile, open(output_file, \"w\") as txtfile:\n",
    "    csvreader = csv.reader(csvfile, delimiter=',')\n",
    "    \n",
    "    # Read the header row\n",
    "    csv_header = next(csvreader)\n",
    "    \n",
    "    # Initialize variables\n",
    "    total_votes = 0\n",
    "    candidate_votes = {}\n",
    "\n",
    "    # Iterate through each line in the file\n",
    "    for row in csvreader:\n",
    "        # Extract the candidate from the current row\n",
    "        candidate = row[2]\n",
    "        # Count the total votes for each candidate\n",
    "        if candidate in candidate_votes:\n",
    "            candidate_votes[candidate] += 1\n",
    "        else:\n",
    "            candidate_votes[candidate] = 1\n",
    "        total_votes += 1\n",
    "\n",
    "    # Find the winner based on the candidate with the most votes\n",
    "    winner = max(candidate_votes, key=candidate_votes.get)\n",
    "    winning_votes = candidate_votes[winner]\n",
    "\n",
    "    # Write the election results to the text file\n",
    "    txtfile.write(\"Election Results\\n\")\n",
    "    txtfile.write(\"-------------------------\\n\")\n",
    "    txtfile.write(f\"Total Votes: {total_votes}\\n\")\n",
    "    txtfile.write(\"-------------------------\\n\")\n",
    "    for candidate, votes in candidate_votes.items():\n",
    "        percentage = (votes / total_votes) * 100\n",
    "        txtfile.write(f\"{candidate}: {percentage:.3f}% ({votes})\\n\")\n",
    "    txtfile.write(\"-------------------------\\n\")\n",
    "    txtfile.write(\"Winner:\\n\")\n",
    "    txtfile.write(f\"{winner}\\n\")\n",
    "\n",
    "print(\"Election results have been saved to 'election_results.txt'.\")"
   ]
  },
  {
   "cell_type": "code",
   "execution_count": null,
   "id": "3c940696-cafd-4e35-b637-8e5b2a96f0df",
   "metadata": {},
   "outputs": [],
   "source": []
  }
 ],
 "metadata": {
  "kernelspec": {
   "display_name": "Python 3 (ipykernel)",
   "language": "python",
   "name": "python3"
  },
  "language_info": {
   "codemirror_mode": {
    "name": "ipython",
    "version": 3
   },
   "file_extension": ".py",
   "mimetype": "text/x-python",
   "name": "python",
   "nbconvert_exporter": "python",
   "pygments_lexer": "ipython3",
   "version": "3.11.7"
  }
 },
 "nbformat": 4,
 "nbformat_minor": 5
}
